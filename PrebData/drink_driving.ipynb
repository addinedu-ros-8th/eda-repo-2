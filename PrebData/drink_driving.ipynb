{
 "cells": [
  {
   "cell_type": "code",
   "execution_count": 1,
   "metadata": {},
   "outputs": [],
   "source": [
    "from selenium import webdriver\n",
    "from selenium.webdriver.chrome.service import Service\n",
    "from matplotlib import pyplot as plt\n",
    "from matplotlib import image as mping\n",
    "from selenium.webdriver.common.keys import Keys\n",
    "from selenium.webdriver import ActionChains\n",
    "import time, koreanize_matplotlib, json, folium, warnings\n",
    "from bs4 import BeautifulSoup\n",
    "from selenium.webdriver.common.by import By\n",
    "from glob import glob\n",
    "from tqdm.notebook import tqdm\n",
    "from selenium.webdriver.common.keys import Keys\n",
    "from selenium.webdriver.support.wait import WebDriverWait\n",
    "from selenium.webdriver.support import expected_conditions as EC\n",
    "from selenium.webdriver.common.action_chains import ActionChains\n",
    "import matplotlib.pyplot as plt\n",
    "import seaborn as sns\n",
    "from selenium import webdriver\n",
    " \n",
    "driver = webdriver.Chrome(service=Service(\"../driver/chromedriver\"))\n",
    "driver.get(\"https://taas.koroad.or.kr/gis/mcm/mcl/initMap.do?menuId\")"
   ]
  },
  {
   "cell_type": "code",
   "execution_count": 6,
   "metadata": {},
   "outputs": [
    {
     "ename": "IndentationError",
     "evalue": "unexpected indent (548119344.py, line 45)",
     "output_type": "error",
     "traceback": [
      "\u001b[0;36m  Cell \u001b[0;32mIn[6], line 45\u001b[0;36m\u001b[0m\n\u001b[0;31m    accident = driver.find_element(By.ID, \"ptsRafSimpleCondition\")\u001b[0m\n\u001b[0m    ^\u001b[0m\n\u001b[0;31mIndentationError\u001b[0m\u001b[0;31m:\u001b[0m unexpected indent\n"
     ]
    }
   ],
   "source": [
    "from selenium.webdriver.support.ui import Select\n",
    "import time\n",
    "\n",
    "# 시작 연도와 끝 연도 체크\n",
    "start_year = Select(driver.find_element(By.ID, \"ptsRafYearStart\"))  # 스타트 연도 구하기\n",
    "end_year = Select(driver.find_element(By.ID, \"ptsRafYearEnd\"))  # 앤드 연도 구하기\n",
    "\n",
    "# 시작 연도 리스트\n",
    "start_year_list = [start_year_option.get_attribute(\"value\") for start_year_option in start_year.options[:5]]\n",
    "\n",
    "for idx, start_year_value in enumerate(start_year_list):\n",
    "    start_year.select_by_value(start_year_value)  # 시작 연도 선택\n",
    "    time.sleep(1)\n",
    "    print(f\"{idx}: 시작연도: {start_year_value}\")\n",
    "    \n",
    "    # 끝 연도를 시작 연도와 동일하게 선택\n",
    "    end_year.select_by_value(start_year_value)\n",
    "    time.sleep(1)\n",
    "    print(f\"{idx}: 끝연도: {start_year_value}\")\n",
    "    #시도 값 확인\n",
    "    sido = driver.find_element(By.ID, \"ptsRafSido\") \n",
    "    seoul = sido.find_elements(By.TAG_NAME, \"option\")[0]\n",
    "\n",
    "    print(seoul.text)\n",
    "\n",
    "    #전체값 확인\n",
    "    gu = driver.find_element(By.ID, \"ptsRafSigungu\") #구는 전체 선택\n",
    "    gu_all = gu.find_elements(By.TAG_NAME, \"option\")[:1]\n",
    "\n",
    "    gu_all.click()\n",
    "    print(gu_all.text)\n",
    "\n",
    "    #조건설정 = 전체 체크박스 선택하기\n",
    "    checkbox = driver.find_element(By.ID, \"ptsRafCh1AccidentContent\")\n",
    "    all_checkbox = checkbox.find_elements(By.NAME, \"ACDNT_GAE_CODE\")\n",
    "\n",
    "    for checkbox_name in all_checkbox:\n",
    "        if not checkbox_name.is_selected():  # 체크박스가 선택되지 않은 경우\n",
    "            checkbox_name.click()  # 클릭하여 선택\n",
    "            print(f\"체크박스를 선택했습니다: {checkbox_name.get_attribute('value')}\")\n",
    "        else:\n",
    "            print(f\"체크박스는 이미 선택되어 있습니다: {checkbox_name.get_attribute('value')}\")\n",
    "\n",
    "             #사고부문 음주운전 선택\n",
    "             accident = driver.find_element(By.ID, \"ptsRafSimpleCondition\")\n",
    "             options = accident.find_elements(By.TAG_NAME, \"option\")[15]\n",
    "\n",
    "             options.click()\n",
    "             print(options.text)\n",
    "\n",
    "             #검색 클릭\n",
    "             search = driver.find_element(By.CSS_SELECTOR, \".btn-search\") \n",
    "             time.sleep(2)\n",
    "\n",
    "             search.click()\n",
    "\n",
    "             #엑셀을 추출하기 위한 목록보기 클릭\n",
    "             result = driver.find_element(By.ID, \"tsmenuPartSearch\")\n",
    "                \n",
    "             result_list = result.find_element(By.CSS_SELECTOR, \".btn-minibox\")\n",
    "             result_list.click()\n",
    "\n",
    "             print(driver.window_handles[1])\n",
    "             driver.switch_to.window(driver.window_handles[1])\n",
    "             pop_btn = driver.find_element(By.CLASS_NAME, \"pop-btn04\")\n",
    "                \n",
    "             pop_btn.click()\n",
    "\n",
    "             time.sleep(3)\n",
    "\n",
    "             driver.close()\n",
    "             driver.switch_to.window(driver.window_handles[0])\n",
    "\n",
    "\n",
    "\n"
   ]
  },
  {
   "cell_type": "code",
   "execution_count": 20,
   "metadata": {},
   "outputs": [],
   "source": [
    "driver.close()"
   ]
  },
  {
   "cell_type": "code",
   "execution_count": 22,
   "metadata": {},
   "outputs": [],
   "source": [
    "driver.switch_to.window(driver.window_handles[0])"
   ]
  },
  {
   "cell_type": "code",
   "execution_count": null,
   "metadata": {},
   "outputs": [],
   "source": []
  }
 ],
 "metadata": {
  "kernelspec": {
   "display_name": "eda_venv",
   "language": "python",
   "name": "python3"
  },
  "language_info": {
   "codemirror_mode": {
    "name": "ipython",
    "version": 3
   },
   "file_extension": ".py",
   "mimetype": "text/x-python",
   "name": "python",
   "nbconvert_exporter": "python",
   "pygments_lexer": "ipython3",
   "version": "3.10.12"
  }
 },
 "nbformat": 4,
 "nbformat_minor": 2
}
